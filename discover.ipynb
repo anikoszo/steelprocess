{
 "cells": [
  {
   "cell_type": "markdown",
   "metadata": {},
   "source": [
    "# Task 1\n",
    "\n",
    "- describe concisely, with stats and plots, the core characteristics of the dataset.\n",
    "- What are extreme values for the gas?"
   ]
  },
  {
   "cell_type": "code",
   "execution_count": 113,
   "metadata": {
    "scrolled": true
   },
   "outputs": [
    {
     "data": {
      "text/html": [
       "<div>\n",
       "<style scoped>\n",
       "    .dataframe tbody tr th:only-of-type {\n",
       "        vertical-align: middle;\n",
       "    }\n",
       "\n",
       "    .dataframe tbody tr th {\n",
       "        vertical-align: top;\n",
       "    }\n",
       "\n",
       "    .dataframe thead th {\n",
       "        text-align: right;\n",
       "    }\n",
       "</style>\n",
       "<table border=\"1\" class=\"dataframe\">\n",
       "  <thead>\n",
       "    <tr style=\"text-align: right;\">\n",
       "      <th></th>\n",
       "      <th>heatid</th>\n",
       "      <th>datetime</th>\n",
       "      <th>end_t</th>\n",
       "      <th>gas1</th>\n",
       "    </tr>\n",
       "  </thead>\n",
       "  <tbody>\n",
       "    <tr>\n",
       "      <th>0</th>\n",
       "      <td>16523</td>\n",
       "      <td>2023-01-01 01:00:00</td>\n",
       "      <td>NaN</td>\n",
       "      <td>9.847</td>\n",
       "    </tr>\n",
       "    <tr>\n",
       "      <th>1</th>\n",
       "      <td>16523</td>\n",
       "      <td>2023-01-01 01:00:05</td>\n",
       "      <td>NaN</td>\n",
       "      <td>9.850</td>\n",
       "    </tr>\n",
       "    <tr>\n",
       "      <th>2</th>\n",
       "      <td>16523</td>\n",
       "      <td>2023-01-01 01:00:10</td>\n",
       "      <td>NaN</td>\n",
       "      <td>9.852</td>\n",
       "    </tr>\n",
       "    <tr>\n",
       "      <th>3</th>\n",
       "      <td>16523</td>\n",
       "      <td>2023-01-01 01:00:15</td>\n",
       "      <td>NaN</td>\n",
       "      <td>9.856</td>\n",
       "    </tr>\n",
       "    <tr>\n",
       "      <th>4</th>\n",
       "      <td>16523</td>\n",
       "      <td>2023-01-01 01:00:20</td>\n",
       "      <td>NaN</td>\n",
       "      <td>9.863</td>\n",
       "    </tr>\n",
       "    <tr>\n",
       "      <th>...</th>\n",
       "      <td>...</td>\n",
       "      <td>...</td>\n",
       "      <td>...</td>\n",
       "      <td>...</td>\n",
       "    </tr>\n",
       "    <tr>\n",
       "      <th>145</th>\n",
       "      <td>16523</td>\n",
       "      <td>2023-01-01 01:12:55</td>\n",
       "      <td>NaN</td>\n",
       "      <td>10.687</td>\n",
       "    </tr>\n",
       "    <tr>\n",
       "      <th>146</th>\n",
       "      <td>16523</td>\n",
       "      <td>2023-01-01 01:12:55</td>\n",
       "      <td>1648.0</td>\n",
       "      <td>10.687</td>\n",
       "    </tr>\n",
       "    <tr>\n",
       "      <th>147</th>\n",
       "      <td>16524</td>\n",
       "      <td>2023-01-01 02:00:00</td>\n",
       "      <td>NaN</td>\n",
       "      <td>9.845</td>\n",
       "    </tr>\n",
       "    <tr>\n",
       "      <th>148</th>\n",
       "      <td>16524</td>\n",
       "      <td>2023-01-01 02:00:05</td>\n",
       "      <td>NaN</td>\n",
       "      <td>9.847</td>\n",
       "    </tr>\n",
       "    <tr>\n",
       "      <th>149</th>\n",
       "      <td>16524</td>\n",
       "      <td>2023-01-01 02:00:10</td>\n",
       "      <td>NaN</td>\n",
       "      <td>9.852</td>\n",
       "    </tr>\n",
       "  </tbody>\n",
       "</table>\n",
       "<p>150 rows × 4 columns</p>\n",
       "</div>"
      ],
      "text/plain": [
       "     heatid             datetime   end_t    gas1\n",
       "0     16523  2023-01-01 01:00:00     NaN   9.847\n",
       "1     16523  2023-01-01 01:00:05     NaN   9.850\n",
       "2     16523  2023-01-01 01:00:10     NaN   9.852\n",
       "3     16523  2023-01-01 01:00:15     NaN   9.856\n",
       "4     16523  2023-01-01 01:00:20     NaN   9.863\n",
       "..      ...                  ...     ...     ...\n",
       "145   16523  2023-01-01 01:12:55     NaN  10.687\n",
       "146   16523  2023-01-01 01:12:55  1648.0  10.687\n",
       "147   16524  2023-01-01 02:00:00     NaN   9.845\n",
       "148   16524  2023-01-01 02:00:05     NaN   9.847\n",
       "149   16524  2023-01-01 02:00:10     NaN   9.852\n",
       "\n",
       "[150 rows x 4 columns]"
      ]
     },
     "execution_count": 113,
     "metadata": {},
     "output_type": "execute_result"
    }
   ],
   "source": [
    "import pandas as pd\n",
    "import matplotlib.pyplot as plt\n",
    "import seaborn as sns\n",
    "import numpy as np\n",
    "from datetime import timedelta\n",
    "\n",
    "dataset = 'data/output.csv'\n",
    "\n",
    "steel_process = pd.read_csv(dataset)\n",
    "steel_process.head(150)"
   ]
  },
  {
   "cell_type": "markdown",
   "metadata": {},
   "source": [
    "# describe"
   ]
  },
  {
   "cell_type": "code",
   "execution_count": 114,
   "metadata": {
    "scrolled": true
   },
   "outputs": [
    {
     "data": {
      "text/html": [
       "<div>\n",
       "<style scoped>\n",
       "    .dataframe tbody tr th:only-of-type {\n",
       "        vertical-align: middle;\n",
       "    }\n",
       "\n",
       "    .dataframe tbody tr th {\n",
       "        vertical-align: top;\n",
       "    }\n",
       "\n",
       "    .dataframe thead th {\n",
       "        text-align: right;\n",
       "    }\n",
       "</style>\n",
       "<table border=\"1\" class=\"dataframe\">\n",
       "  <thead>\n",
       "    <tr style=\"text-align: right;\">\n",
       "      <th></th>\n",
       "      <th>heatid</th>\n",
       "      <th>end_t</th>\n",
       "      <th>gas1</th>\n",
       "    </tr>\n",
       "  </thead>\n",
       "  <tbody>\n",
       "    <tr>\n",
       "      <th>count</th>\n",
       "      <td>108987.000000</td>\n",
       "      <td>690.000000</td>\n",
       "      <td>108987.000000</td>\n",
       "    </tr>\n",
       "    <tr>\n",
       "      <th>mean</th>\n",
       "      <td>16867.321745</td>\n",
       "      <td>1704.950725</td>\n",
       "      <td>9.879033</td>\n",
       "    </tr>\n",
       "    <tr>\n",
       "      <th>std</th>\n",
       "      <td>199.161575</td>\n",
       "      <td>70.649201</td>\n",
       "      <td>2.154289</td>\n",
       "    </tr>\n",
       "    <tr>\n",
       "      <th>min</th>\n",
       "      <td>16523.000000</td>\n",
       "      <td>1545.000000</td>\n",
       "      <td>0.000000</td>\n",
       "    </tr>\n",
       "    <tr>\n",
       "      <th>25%</th>\n",
       "      <td>16695.000000</td>\n",
       "      <td>1645.250000</td>\n",
       "      <td>10.091000</td>\n",
       "    </tr>\n",
       "    <tr>\n",
       "      <th>50%</th>\n",
       "      <td>16868.000000</td>\n",
       "      <td>1706.000000</td>\n",
       "      <td>10.341000</td>\n",
       "    </tr>\n",
       "    <tr>\n",
       "      <th>75%</th>\n",
       "      <td>17039.000000</td>\n",
       "      <td>1758.000000</td>\n",
       "      <td>10.555000</td>\n",
       "    </tr>\n",
       "    <tr>\n",
       "      <th>max</th>\n",
       "      <td>17212.000000</td>\n",
       "      <td>1918.000000</td>\n",
       "      <td>10.905000</td>\n",
       "    </tr>\n",
       "  </tbody>\n",
       "</table>\n",
       "</div>"
      ],
      "text/plain": [
       "              heatid        end_t           gas1\n",
       "count  108987.000000   690.000000  108987.000000\n",
       "mean    16867.321745  1704.950725       9.879033\n",
       "std       199.161575    70.649201       2.154289\n",
       "min     16523.000000  1545.000000       0.000000\n",
       "25%     16695.000000  1645.250000      10.091000\n",
       "50%     16868.000000  1706.000000      10.341000\n",
       "75%     17039.000000  1758.000000      10.555000\n",
       "max     17212.000000  1918.000000      10.905000"
      ]
     },
     "execution_count": 114,
     "metadata": {},
     "output_type": "execute_result"
    }
   ],
   "source": [
    "steel_process.describe()"
   ]
  },
  {
   "cell_type": "code",
   "execution_count": 115,
   "metadata": {},
   "outputs": [
    {
     "data": {
      "image/png": "[encoded data removed]",
      "text/plain": [
       "<Figure size 800x600 with 2 Axes>"
      ]
     },
     "metadata": {},
     "output_type": "display_data"
    }
   ],
   "source": [
    "correlation_matrix = steel_process[['heatid','end_t','gas1']].corr()\n",
    "\n",
    "# Create a heatmap\n",
    "plt.figure(figsize=(8, 6))  # Optional: Set the figure size\n",
    "sns.heatmap(correlation_matrix, annot=True, cmap='coolwarm', fmt=\".2f\")\n",
    "\n",
    "# Customize the plot\n",
    "plt.title('Correlation Heatmap')\n",
    "plt.tight_layout()\n",
    "\n",
    "# Show the plot\n",
    "plt.show()"
   ]
  },
  {
   "cell_type": "markdown",
   "metadata": {},
   "source": [
    "# number of historical processes"
   ]
  },
  {
   "cell_type": "code",
   "execution_count": 116,
   "metadata": {
    "scrolled": true
   },
   "outputs": [
    {
     "name": "stdout",
     "output_type": "stream",
     "text": [
      "number of historical processes: 690\n"
     ]
    }
   ],
   "source": [
    "print(f\"number of historical processes: {len(steel_process['heatid'].unique())}\")"
   ]
  },
  {
   "cell_type": "markdown",
   "metadata": {},
   "source": [
    "# missing values"
   ]
  },
  {
   "cell_type": "code",
   "execution_count": 117,
   "metadata": {},
   "outputs": [
    {
     "name": "stdout",
     "output_type": "stream",
     "text": [
      "heatid           0\n",
      "datetime         0\n",
      "end_t       108297\n",
      "gas1             0\n",
      "dtype: int64\n"
     ]
    }
   ],
   "source": [
    "row_nan_count = steel_process.isna().sum(axis=0)\n",
    "\n",
    "print(row_nan_count)"
   ]
  },
  {
   "cell_type": "code",
   "execution_count": 118,
   "metadata": {
    "jupyter": {
     "source_hidden": true
    }
   },
   "outputs": [
    {
     "data": {
      "text/plain": [
       "<Axes: ylabel='gas1'>"
      ]
     },
     "execution_count": 118,
     "metadata": {},
     "output_type": "execute_result"
    },
    {
     "data": {
      "image/png": "[encoded data removed]",
      "text/plain": [
       "<Figure size 640x480 with 1 Axes>"
      ]
     },
     "metadata": {},
     "output_type": "display_data"
    }
   ],
   "source": [
    "sns.boxplot(steel_process['gas1'])"
   ]
  },
  {
   "cell_type": "code",
   "execution_count": 119,
   "metadata": {},
   "outputs": [
    {
     "data": {
      "text/html": [
       "<div>\n",
       "<style scoped>\n",
       "    .dataframe tbody tr th:only-of-type {\n",
       "        vertical-align: middle;\n",
       "    }\n",
       "\n",
       "    .dataframe tbody tr th {\n",
       "        vertical-align: top;\n",
       "    }\n",
       "\n",
       "    .dataframe thead th {\n",
       "        text-align: right;\n",
       "    }\n",
       "</style>\n",
       "<table border=\"1\" class=\"dataframe\">\n",
       "  <thead>\n",
       "    <tr style=\"text-align: right;\">\n",
       "      <th></th>\n",
       "      <th>heatid</th>\n",
       "      <th>datetime</th>\n",
       "      <th>end_t</th>\n",
       "      <th>gas1</th>\n",
       "    </tr>\n",
       "  </thead>\n",
       "  <tbody>\n",
       "    <tr>\n",
       "      <th>10</th>\n",
       "      <td>16523</td>\n",
       "      <td>2023-01-01 01:01:00</td>\n",
       "      <td>NaN</td>\n",
       "      <td>0.0</td>\n",
       "    </tr>\n",
       "    <tr>\n",
       "      <th>25</th>\n",
       "      <td>16523</td>\n",
       "      <td>2023-01-01 01:02:15</td>\n",
       "      <td>NaN</td>\n",
       "      <td>0.0</td>\n",
       "    </tr>\n",
       "    <tr>\n",
       "      <th>40</th>\n",
       "      <td>16523</td>\n",
       "      <td>2023-01-01 01:03:35</td>\n",
       "      <td>NaN</td>\n",
       "      <td>0.0</td>\n",
       "    </tr>\n",
       "    <tr>\n",
       "      <th>57</th>\n",
       "      <td>16523</td>\n",
       "      <td>2023-01-01 01:05:00</td>\n",
       "      <td>NaN</td>\n",
       "      <td>0.0</td>\n",
       "    </tr>\n",
       "    <tr>\n",
       "      <th>75</th>\n",
       "      <td>16523</td>\n",
       "      <td>2023-01-01 01:06:35</td>\n",
       "      <td>NaN</td>\n",
       "      <td>0.0</td>\n",
       "    </tr>\n",
       "    <tr>\n",
       "      <th>...</th>\n",
       "      <td>...</td>\n",
       "      <td>...</td>\n",
       "      <td>...</td>\n",
       "      <td>...</td>\n",
       "    </tr>\n",
       "    <tr>\n",
       "      <th>108876</th>\n",
       "      <td>17212</td>\n",
       "      <td>2023-01-30 23:03:30</td>\n",
       "      <td>NaN</td>\n",
       "      <td>0.0</td>\n",
       "    </tr>\n",
       "    <tr>\n",
       "      <th>108933</th>\n",
       "      <td>17212</td>\n",
       "      <td>2023-01-30 23:08:35</td>\n",
       "      <td>NaN</td>\n",
       "      <td>0.0</td>\n",
       "    </tr>\n",
       "    <tr>\n",
       "      <th>108947</th>\n",
       "      <td>17212</td>\n",
       "      <td>2023-01-30 23:10:10</td>\n",
       "      <td>NaN</td>\n",
       "      <td>0.0</td>\n",
       "    </tr>\n",
       "    <tr>\n",
       "      <th>108961</th>\n",
       "      <td>17212</td>\n",
       "      <td>2023-01-30 23:11:40</td>\n",
       "      <td>NaN</td>\n",
       "      <td>0.0</td>\n",
       "    </tr>\n",
       "    <tr>\n",
       "      <th>108966</th>\n",
       "      <td>17212</td>\n",
       "      <td>2023-01-30 23:12:15</td>\n",
       "      <td>NaN</td>\n",
       "      <td>0.0</td>\n",
       "    </tr>\n",
       "  </tbody>\n",
       "</table>\n",
       "<p>4882 rows × 4 columns</p>\n",
       "</div>"
      ],
      "text/plain": [
       "        heatid             datetime  end_t  gas1\n",
       "10       16523  2023-01-01 01:01:00    NaN   0.0\n",
       "25       16523  2023-01-01 01:02:15    NaN   0.0\n",
       "40       16523  2023-01-01 01:03:35    NaN   0.0\n",
       "57       16523  2023-01-01 01:05:00    NaN   0.0\n",
       "75       16523  2023-01-01 01:06:35    NaN   0.0\n",
       "...        ...                  ...    ...   ...\n",
       "108876   17212  2023-01-30 23:03:30    NaN   0.0\n",
       "108933   17212  2023-01-30 23:08:35    NaN   0.0\n",
       "108947   17212  2023-01-30 23:10:10    NaN   0.0\n",
       "108961   17212  2023-01-30 23:11:40    NaN   0.0\n",
       "108966   17212  2023-01-30 23:12:15    NaN   0.0\n",
       "\n",
       "[4882 rows x 4 columns]"
      ]
     },
     "execution_count": 119,
     "metadata": {},
     "output_type": "execute_result"
    }
   ],
   "source": [
    "steel_process[steel_process['gas1'] < 9]"
   ]
  },
  {
   "cell_type": "code",
   "execution_count": 120,
   "metadata": {},
   "outputs": [
    {
     "name": "stdout",
     "output_type": "stream",
     "text": [
      "Gas outliers in the dataset is :4.48%\n"
     ]
    }
   ],
   "source": [
    "outlier_portion = len(steel_process[steel_process['gas1'] < 9])/len(steel_process)\n",
    "\n",
    "form_outlier_portion = \"{:.2%}\".format(outlier_portion)\n",
    "print(f\"Gas outliers in the dataset is :{form_outlier_portion}\")"
   ]
  },
  {
   "cell_type": "code",
   "execution_count": 121,
   "metadata": {},
   "outputs": [
    {
     "data": {
      "text/plain": [
       "<Axes: ylabel='end_t'>"
      ]
     },
     "execution_count": 121,
     "metadata": {},
     "output_type": "execute_result"
    },
    {
     "data": {
      "image/png": "[encoded data removed]",
      "text/plain": [
       "<Figure size 640x480 with 1 Axes>"
      ]
     },
     "metadata": {},
     "output_type": "display_data"
    }
   ],
   "source": [
    "sns.boxplot(steel_process['end_t'])"
   ]
  },
  {
   "cell_type": "markdown",
   "metadata": {},
   "source": [
    "# Task 2\n",
    "- Propose a function to time shift the data.\n",
    "- how to store timestamps for different measurements in the database? Why?"
   ]
  },
  {
   "cell_type": "code",
   "execution_count": 122,
   "metadata": {},
   "outputs": [],
   "source": [
    "# It works only in the case the difference between each row is 5 sec\n",
    "\n",
    "def shift_dataframe_row(df, column):\n",
    "    df[column+'_shifted'] = df[column].shift(periods=-1)\n",
    "    return df "
   ]
  },
  {
   "cell_type": "code",
   "execution_count": 123,
   "metadata": {},
   "outputs": [],
   "source": [
    "steel_process = shift_dataframe_row(steel_process,'datetime')"
   ]
  },
  {
   "cell_type": "code",
   "execution_count": 124,
   "metadata": {},
   "outputs": [],
   "source": [
    "steel_process['date-diff'] = pd.to_datetime(steel_process['datetime_shifted'])- pd.to_datetime(steel_process['datetime'])"
   ]
  },
  {
   "cell_type": "code",
   "execution_count": 125,
   "metadata": {},
   "outputs": [
    {
     "data": {
      "text/html": [
       "<div>\n",
       "<style scoped>\n",
       "    .dataframe tbody tr th:only-of-type {\n",
       "        vertical-align: middle;\n",
       "    }\n",
       "\n",
       "    .dataframe tbody tr th {\n",
       "        vertical-align: top;\n",
       "    }\n",
       "\n",
       "    .dataframe thead th {\n",
       "        text-align: right;\n",
       "    }\n",
       "</style>\n",
       "<table border=\"1\" class=\"dataframe\">\n",
       "  <thead>\n",
       "    <tr style=\"text-align: right;\">\n",
       "      <th></th>\n",
       "      <th>heatid</th>\n",
       "      <th>datetime</th>\n",
       "      <th>end_t</th>\n",
       "      <th>gas1</th>\n",
       "      <th>datetime_shifted</th>\n",
       "      <th>date-diff</th>\n",
       "    </tr>\n",
       "  </thead>\n",
       "  <tbody>\n",
       "    <tr>\n",
       "      <th>0</th>\n",
       "      <td>16523</td>\n",
       "      <td>2023-01-01 01:00:00</td>\n",
       "      <td>NaN</td>\n",
       "      <td>9.847</td>\n",
       "      <td>2023-01-01 01:00:05</td>\n",
       "      <td>0 days 00:00:05</td>\n",
       "    </tr>\n",
       "    <tr>\n",
       "      <th>1</th>\n",
       "      <td>16523</td>\n",
       "      <td>2023-01-01 01:00:05</td>\n",
       "      <td>NaN</td>\n",
       "      <td>9.850</td>\n",
       "      <td>2023-01-01 01:00:10</td>\n",
       "      <td>0 days 00:00:05</td>\n",
       "    </tr>\n",
       "    <tr>\n",
       "      <th>2</th>\n",
       "      <td>16523</td>\n",
       "      <td>2023-01-01 01:00:10</td>\n",
       "      <td>NaN</td>\n",
       "      <td>9.852</td>\n",
       "      <td>2023-01-01 01:00:15</td>\n",
       "      <td>0 days 00:00:05</td>\n",
       "    </tr>\n",
       "    <tr>\n",
       "      <th>3</th>\n",
       "      <td>16523</td>\n",
       "      <td>2023-01-01 01:00:15</td>\n",
       "      <td>NaN</td>\n",
       "      <td>9.856</td>\n",
       "      <td>2023-01-01 01:00:20</td>\n",
       "      <td>0 days 00:00:05</td>\n",
       "    </tr>\n",
       "    <tr>\n",
       "      <th>4</th>\n",
       "      <td>16523</td>\n",
       "      <td>2023-01-01 01:00:20</td>\n",
       "      <td>NaN</td>\n",
       "      <td>9.863</td>\n",
       "      <td>2023-01-01 01:00:35</td>\n",
       "      <td>0 days 00:00:15</td>\n",
       "    </tr>\n",
       "    <tr>\n",
       "      <th>5</th>\n",
       "      <td>16523</td>\n",
       "      <td>2023-01-01 01:00:35</td>\n",
       "      <td>NaN</td>\n",
       "      <td>9.884</td>\n",
       "      <td>2023-01-01 01:00:40</td>\n",
       "      <td>0 days 00:00:05</td>\n",
       "    </tr>\n",
       "    <tr>\n",
       "      <th>6</th>\n",
       "      <td>16523</td>\n",
       "      <td>2023-01-01 01:00:40</td>\n",
       "      <td>NaN</td>\n",
       "      <td>9.890</td>\n",
       "      <td>2023-01-01 01:00:45</td>\n",
       "      <td>0 days 00:00:05</td>\n",
       "    </tr>\n",
       "    <tr>\n",
       "      <th>7</th>\n",
       "      <td>16523</td>\n",
       "      <td>2023-01-01 01:00:45</td>\n",
       "      <td>NaN</td>\n",
       "      <td>9.890</td>\n",
       "      <td>2023-01-01 01:00:50</td>\n",
       "      <td>0 days 00:00:05</td>\n",
       "    </tr>\n",
       "    <tr>\n",
       "      <th>8</th>\n",
       "      <td>16523</td>\n",
       "      <td>2023-01-01 01:00:50</td>\n",
       "      <td>NaN</td>\n",
       "      <td>9.890</td>\n",
       "      <td>2023-01-01 01:00:55</td>\n",
       "      <td>0 days 00:00:05</td>\n",
       "    </tr>\n",
       "    <tr>\n",
       "      <th>9</th>\n",
       "      <td>16523</td>\n",
       "      <td>2023-01-01 01:00:55</td>\n",
       "      <td>NaN</td>\n",
       "      <td>9.899</td>\n",
       "      <td>2023-01-01 01:01:00</td>\n",
       "      <td>0 days 00:00:05</td>\n",
       "    </tr>\n",
       "    <tr>\n",
       "      <th>10</th>\n",
       "      <td>16523</td>\n",
       "      <td>2023-01-01 01:01:00</td>\n",
       "      <td>NaN</td>\n",
       "      <td>0.000</td>\n",
       "      <td>2023-01-01 01:01:05</td>\n",
       "      <td>0 days 00:00:05</td>\n",
       "    </tr>\n",
       "    <tr>\n",
       "      <th>11</th>\n",
       "      <td>16523</td>\n",
       "      <td>2023-01-01 01:01:05</td>\n",
       "      <td>NaN</td>\n",
       "      <td>9.908</td>\n",
       "      <td>2023-01-01 01:01:10</td>\n",
       "      <td>0 days 00:00:05</td>\n",
       "    </tr>\n",
       "    <tr>\n",
       "      <th>12</th>\n",
       "      <td>16523</td>\n",
       "      <td>2023-01-01 01:01:10</td>\n",
       "      <td>NaN</td>\n",
       "      <td>9.910</td>\n",
       "      <td>2023-01-01 01:01:15</td>\n",
       "      <td>0 days 00:00:05</td>\n",
       "    </tr>\n",
       "    <tr>\n",
       "      <th>13</th>\n",
       "      <td>16523</td>\n",
       "      <td>2023-01-01 01:01:15</td>\n",
       "      <td>NaN</td>\n",
       "      <td>9.916</td>\n",
       "      <td>2023-01-01 01:01:20</td>\n",
       "      <td>0 days 00:00:05</td>\n",
       "    </tr>\n",
       "    <tr>\n",
       "      <th>14</th>\n",
       "      <td>16523</td>\n",
       "      <td>2023-01-01 01:01:20</td>\n",
       "      <td>NaN</td>\n",
       "      <td>9.916</td>\n",
       "      <td>2023-01-01 01:01:25</td>\n",
       "      <td>0 days 00:00:05</td>\n",
       "    </tr>\n",
       "  </tbody>\n",
       "</table>\n",
       "</div>"
      ],
      "text/plain": [
       "    heatid             datetime  end_t   gas1     datetime_shifted  \\\n",
       "0    16523  2023-01-01 01:00:00    NaN  9.847  2023-01-01 01:00:05   \n",
       "1    16523  2023-01-01 01:00:05    NaN  9.850  2023-01-01 01:00:10   \n",
       "2    16523  2023-01-01 01:00:10    NaN  9.852  2023-01-01 01:00:15   \n",
       "3    16523  2023-01-01 01:00:15    NaN  9.856  2023-01-01 01:00:20   \n",
       "4    16523  2023-01-01 01:00:20    NaN  9.863  2023-01-01 01:00:35   \n",
       "5    16523  2023-01-01 01:00:35    NaN  9.884  2023-01-01 01:00:40   \n",
       "6    16523  2023-01-01 01:00:40    NaN  9.890  2023-01-01 01:00:45   \n",
       "7    16523  2023-01-01 01:00:45    NaN  9.890  2023-01-01 01:00:50   \n",
       "8    16523  2023-01-01 01:00:50    NaN  9.890  2023-01-01 01:00:55   \n",
       "9    16523  2023-01-01 01:00:55    NaN  9.899  2023-01-01 01:01:00   \n",
       "10   16523  2023-01-01 01:01:00    NaN  0.000  2023-01-01 01:01:05   \n",
       "11   16523  2023-01-01 01:01:05    NaN  9.908  2023-01-01 01:01:10   \n",
       "12   16523  2023-01-01 01:01:10    NaN  9.910  2023-01-01 01:01:15   \n",
       "13   16523  2023-01-01 01:01:15    NaN  9.916  2023-01-01 01:01:20   \n",
       "14   16523  2023-01-01 01:01:20    NaN  9.916  2023-01-01 01:01:25   \n",
       "\n",
       "         date-diff  \n",
       "0  0 days 00:00:05  \n",
       "1  0 days 00:00:05  \n",
       "2  0 days 00:00:05  \n",
       "3  0 days 00:00:05  \n",
       "4  0 days 00:00:15  \n",
       "5  0 days 00:00:05  \n",
       "6  0 days 00:00:05  \n",
       "7  0 days 00:00:05  \n",
       "8  0 days 00:00:05  \n",
       "9  0 days 00:00:05  \n",
       "10 0 days 00:00:05  \n",
       "11 0 days 00:00:05  \n",
       "12 0 days 00:00:05  \n",
       "13 0 days 00:00:05  \n",
       "14 0 days 00:00:05  "
      ]
     },
     "execution_count": 125,
     "metadata": {},
     "output_type": "execute_result"
    }
   ],
   "source": [
    "steel_process.head(15)"
   ]
  },
  {
   "cell_type": "code",
   "execution_count": 126,
   "metadata": {},
   "outputs": [],
   "source": [
    "steel_process['date-diff'] = steel_process['date-diff'].dt.total_seconds()"
   ]
  },
  {
   "cell_type": "code",
   "execution_count": 127,
   "metadata": {},
   "outputs": [
    {
     "data": {
      "text/html": [
       "<div>\n",
       "<style scoped>\n",
       "    .dataframe tbody tr th:only-of-type {\n",
       "        vertical-align: middle;\n",
       "    }\n",
       "\n",
       "    .dataframe tbody tr th {\n",
       "        vertical-align: top;\n",
       "    }\n",
       "\n",
       "    .dataframe thead th {\n",
       "        text-align: right;\n",
       "    }\n",
       "</style>\n",
       "<table border=\"1\" class=\"dataframe\">\n",
       "  <thead>\n",
       "    <tr style=\"text-align: right;\">\n",
       "      <th></th>\n",
       "      <th>heatid</th>\n",
       "      <th>datetime</th>\n",
       "      <th>end_t</th>\n",
       "      <th>gas1</th>\n",
       "      <th>datetime_shifted</th>\n",
       "      <th>date-diff</th>\n",
       "    </tr>\n",
       "  </thead>\n",
       "  <tbody>\n",
       "    <tr>\n",
       "      <th>0</th>\n",
       "      <td>16523</td>\n",
       "      <td>2023-01-01 01:00:00</td>\n",
       "      <td>NaN</td>\n",
       "      <td>9.847</td>\n",
       "      <td>2023-01-01 01:00:05</td>\n",
       "      <td>5.0</td>\n",
       "    </tr>\n",
       "    <tr>\n",
       "      <th>1</th>\n",
       "      <td>16523</td>\n",
       "      <td>2023-01-01 01:00:05</td>\n",
       "      <td>NaN</td>\n",
       "      <td>9.850</td>\n",
       "      <td>2023-01-01 01:00:10</td>\n",
       "      <td>5.0</td>\n",
       "    </tr>\n",
       "    <tr>\n",
       "      <th>2</th>\n",
       "      <td>16523</td>\n",
       "      <td>2023-01-01 01:00:10</td>\n",
       "      <td>NaN</td>\n",
       "      <td>9.852</td>\n",
       "      <td>2023-01-01 01:00:15</td>\n",
       "      <td>5.0</td>\n",
       "    </tr>\n",
       "    <tr>\n",
       "      <th>3</th>\n",
       "      <td>16523</td>\n",
       "      <td>2023-01-01 01:00:15</td>\n",
       "      <td>NaN</td>\n",
       "      <td>9.856</td>\n",
       "      <td>2023-01-01 01:00:20</td>\n",
       "      <td>5.0</td>\n",
       "    </tr>\n",
       "    <tr>\n",
       "      <th>4</th>\n",
       "      <td>16523</td>\n",
       "      <td>2023-01-01 01:00:20</td>\n",
       "      <td>NaN</td>\n",
       "      <td>9.863</td>\n",
       "      <td>2023-01-01 01:00:35</td>\n",
       "      <td>15.0</td>\n",
       "    </tr>\n",
       "    <tr>\n",
       "      <th>5</th>\n",
       "      <td>16523</td>\n",
       "      <td>2023-01-01 01:00:35</td>\n",
       "      <td>NaN</td>\n",
       "      <td>9.884</td>\n",
       "      <td>2023-01-01 01:00:40</td>\n",
       "      <td>5.0</td>\n",
       "    </tr>\n",
       "    <tr>\n",
       "      <th>6</th>\n",
       "      <td>16523</td>\n",
       "      <td>2023-01-01 01:00:40</td>\n",
       "      <td>NaN</td>\n",
       "      <td>9.890</td>\n",
       "      <td>2023-01-01 01:00:45</td>\n",
       "      <td>5.0</td>\n",
       "    </tr>\n",
       "    <tr>\n",
       "      <th>7</th>\n",
       "      <td>16523</td>\n",
       "      <td>2023-01-01 01:00:45</td>\n",
       "      <td>NaN</td>\n",
       "      <td>9.890</td>\n",
       "      <td>2023-01-01 01:00:50</td>\n",
       "      <td>5.0</td>\n",
       "    </tr>\n",
       "    <tr>\n",
       "      <th>8</th>\n",
       "      <td>16523</td>\n",
       "      <td>2023-01-01 01:00:50</td>\n",
       "      <td>NaN</td>\n",
       "      <td>9.890</td>\n",
       "      <td>2023-01-01 01:00:55</td>\n",
       "      <td>5.0</td>\n",
       "    </tr>\n",
       "    <tr>\n",
       "      <th>9</th>\n",
       "      <td>16523</td>\n",
       "      <td>2023-01-01 01:00:55</td>\n",
       "      <td>NaN</td>\n",
       "      <td>9.899</td>\n",
       "      <td>2023-01-01 01:01:00</td>\n",
       "      <td>5.0</td>\n",
       "    </tr>\n",
       "    <tr>\n",
       "      <th>10</th>\n",
       "      <td>16523</td>\n",
       "      <td>2023-01-01 01:01:00</td>\n",
       "      <td>NaN</td>\n",
       "      <td>0.000</td>\n",
       "      <td>2023-01-01 01:01:05</td>\n",
       "      <td>5.0</td>\n",
       "    </tr>\n",
       "    <tr>\n",
       "      <th>11</th>\n",
       "      <td>16523</td>\n",
       "      <td>2023-01-01 01:01:05</td>\n",
       "      <td>NaN</td>\n",
       "      <td>9.908</td>\n",
       "      <td>2023-01-01 01:01:10</td>\n",
       "      <td>5.0</td>\n",
       "    </tr>\n",
       "    <tr>\n",
       "      <th>12</th>\n",
       "      <td>16523</td>\n",
       "      <td>2023-01-01 01:01:10</td>\n",
       "      <td>NaN</td>\n",
       "      <td>9.910</td>\n",
       "      <td>2023-01-01 01:01:15</td>\n",
       "      <td>5.0</td>\n",
       "    </tr>\n",
       "    <tr>\n",
       "      <th>13</th>\n",
       "      <td>16523</td>\n",
       "      <td>2023-01-01 01:01:15</td>\n",
       "      <td>NaN</td>\n",
       "      <td>9.916</td>\n",
       "      <td>2023-01-01 01:01:20</td>\n",
       "      <td>5.0</td>\n",
       "    </tr>\n",
       "    <tr>\n",
       "      <th>14</th>\n",
       "      <td>16523</td>\n",
       "      <td>2023-01-01 01:01:20</td>\n",
       "      <td>NaN</td>\n",
       "      <td>9.916</td>\n",
       "      <td>2023-01-01 01:01:25</td>\n",
       "      <td>5.0</td>\n",
       "    </tr>\n",
       "  </tbody>\n",
       "</table>\n",
       "</div>"
      ],
      "text/plain": [
       "    heatid             datetime  end_t   gas1     datetime_shifted  date-diff\n",
       "0    16523  2023-01-01 01:00:00    NaN  9.847  2023-01-01 01:00:05        5.0\n",
       "1    16523  2023-01-01 01:00:05    NaN  9.850  2023-01-01 01:00:10        5.0\n",
       "2    16523  2023-01-01 01:00:10    NaN  9.852  2023-01-01 01:00:15        5.0\n",
       "3    16523  2023-01-01 01:00:15    NaN  9.856  2023-01-01 01:00:20        5.0\n",
       "4    16523  2023-01-01 01:00:20    NaN  9.863  2023-01-01 01:00:35       15.0\n",
       "5    16523  2023-01-01 01:00:35    NaN  9.884  2023-01-01 01:00:40        5.0\n",
       "6    16523  2023-01-01 01:00:40    NaN  9.890  2023-01-01 01:00:45        5.0\n",
       "7    16523  2023-01-01 01:00:45    NaN  9.890  2023-01-01 01:00:50        5.0\n",
       "8    16523  2023-01-01 01:00:50    NaN  9.890  2023-01-01 01:00:55        5.0\n",
       "9    16523  2023-01-01 01:00:55    NaN  9.899  2023-01-01 01:01:00        5.0\n",
       "10   16523  2023-01-01 01:01:00    NaN  0.000  2023-01-01 01:01:05        5.0\n",
       "11   16523  2023-01-01 01:01:05    NaN  9.908  2023-01-01 01:01:10        5.0\n",
       "12   16523  2023-01-01 01:01:10    NaN  9.910  2023-01-01 01:01:15        5.0\n",
       "13   16523  2023-01-01 01:01:15    NaN  9.916  2023-01-01 01:01:20        5.0\n",
       "14   16523  2023-01-01 01:01:20    NaN  9.916  2023-01-01 01:01:25        5.0"
      ]
     },
     "execution_count": 127,
     "metadata": {},
     "output_type": "execute_result"
    }
   ],
   "source": [
    "steel_process.head(15)"
   ]
  },
  {
   "cell_type": "code",
   "execution_count": 128,
   "metadata": {},
   "outputs": [
    {
     "name": "stdout",
     "output_type": "stream",
     "text": [
      "Datetime outliers in the dataset is :10.41%\n"
     ]
    }
   ],
   "source": [
    "date_time_difference_portion = len(steel_process[steel_process['date-diff'] > 5]) / len(steel_process)\n",
    "\n",
    "form_outlier_portion = \"{:.2%}\".format(date_time_difference_portion)\n",
    "print(f\"Datetime outliers in the dataset is :{form_outlier_portion}\")"
   ]
  },
  {
   "cell_type": "markdown",
   "metadata": {},
   "source": [
    "# as 10% of the data doesnot follow the rule need another function\n"
   ]
  },
  {
   "cell_type": "code",
   "execution_count": 129,
   "metadata": {},
   "outputs": [],
   "source": [
    "steel_process['datetime_mod'] = steel_process['datetime'].apply(lambda x: pd.to_datetime(x) - timedelta(seconds=5))"
   ]
  },
  {
   "cell_type": "code",
   "execution_count": 130,
   "metadata": {},
   "outputs": [
    {
     "data": {
      "text/html": [
       "<div>\n",
       "<style scoped>\n",
       "    .dataframe tbody tr th:only-of-type {\n",
       "        vertical-align: middle;\n",
       "    }\n",
       "\n",
       "    .dataframe tbody tr th {\n",
       "        vertical-align: top;\n",
       "    }\n",
       "\n",
       "    .dataframe thead th {\n",
       "        text-align: right;\n",
       "    }\n",
       "</style>\n",
       "<table border=\"1\" class=\"dataframe\">\n",
       "  <thead>\n",
       "    <tr style=\"text-align: right;\">\n",
       "      <th></th>\n",
       "      <th>heatid</th>\n",
       "      <th>datetime</th>\n",
       "      <th>end_t</th>\n",
       "      <th>gas1</th>\n",
       "      <th>datetime_shifted</th>\n",
       "      <th>date-diff</th>\n",
       "      <th>datetime_mod</th>\n",
       "    </tr>\n",
       "  </thead>\n",
       "  <tbody>\n",
       "    <tr>\n",
       "      <th>0</th>\n",
       "      <td>16523</td>\n",
       "      <td>2023-01-01 01:00:00</td>\n",
       "      <td>NaN</td>\n",
       "      <td>9.847</td>\n",
       "      <td>2023-01-01 01:00:05</td>\n",
       "      <td>5.0</td>\n",
       "      <td>2023-01-01 00:59:55</td>\n",
       "    </tr>\n",
       "    <tr>\n",
       "      <th>1</th>\n",
       "      <td>16523</td>\n",
       "      <td>2023-01-01 01:00:05</td>\n",
       "      <td>NaN</td>\n",
       "      <td>9.850</td>\n",
       "      <td>2023-01-01 01:00:10</td>\n",
       "      <td>5.0</td>\n",
       "      <td>2023-01-01 01:00:00</td>\n",
       "    </tr>\n",
       "    <tr>\n",
       "      <th>2</th>\n",
       "      <td>16523</td>\n",
       "      <td>2023-01-01 01:00:10</td>\n",
       "      <td>NaN</td>\n",
       "      <td>9.852</td>\n",
       "      <td>2023-01-01 01:00:15</td>\n",
       "      <td>5.0</td>\n",
       "      <td>2023-01-01 01:00:05</td>\n",
       "    </tr>\n",
       "    <tr>\n",
       "      <th>3</th>\n",
       "      <td>16523</td>\n",
       "      <td>2023-01-01 01:00:15</td>\n",
       "      <td>NaN</td>\n",
       "      <td>9.856</td>\n",
       "      <td>2023-01-01 01:00:20</td>\n",
       "      <td>5.0</td>\n",
       "      <td>2023-01-01 01:00:10</td>\n",
       "    </tr>\n",
       "    <tr>\n",
       "      <th>4</th>\n",
       "      <td>16523</td>\n",
       "      <td>2023-01-01 01:00:20</td>\n",
       "      <td>NaN</td>\n",
       "      <td>9.863</td>\n",
       "      <td>2023-01-01 01:00:35</td>\n",
       "      <td>15.0</td>\n",
       "      <td>2023-01-01 01:00:15</td>\n",
       "    </tr>\n",
       "  </tbody>\n",
       "</table>\n",
       "</div>"
      ],
      "text/plain": [
       "   heatid             datetime  end_t   gas1     datetime_shifted  date-diff  \\\n",
       "0   16523  2023-01-01 01:00:00    NaN  9.847  2023-01-01 01:00:05        5.0   \n",
       "1   16523  2023-01-01 01:00:05    NaN  9.850  2023-01-01 01:00:10        5.0   \n",
       "2   16523  2023-01-01 01:00:10    NaN  9.852  2023-01-01 01:00:15        5.0   \n",
       "3   16523  2023-01-01 01:00:15    NaN  9.856  2023-01-01 01:00:20        5.0   \n",
       "4   16523  2023-01-01 01:00:20    NaN  9.863  2023-01-01 01:00:35       15.0   \n",
       "\n",
       "         datetime_mod  \n",
       "0 2023-01-01 00:59:55  \n",
       "1 2023-01-01 01:00:00  \n",
       "2 2023-01-01 01:00:05  \n",
       "3 2023-01-01 01:00:10  \n",
       "4 2023-01-01 01:00:15  "
      ]
     },
     "execution_count": 130,
     "metadata": {},
     "output_type": "execute_result"
    }
   ],
   "source": [
    "steel_process.head()"
   ]
  },
  {
   "cell_type": "code",
   "execution_count": 131,
   "metadata": {},
   "outputs": [],
   "source": [
    "df_st = steel_process[['heatid','datetime_mod','end_t','gas1']]"
   ]
  },
  {
   "cell_type": "code",
   "execution_count": 132,
   "metadata": {},
   "outputs": [
    {
     "data": {
      "text/html": [
       "<div>\n",
       "<style scoped>\n",
       "    .dataframe tbody tr th:only-of-type {\n",
       "        vertical-align: middle;\n",
       "    }\n",
       "\n",
       "    .dataframe tbody tr th {\n",
       "        vertical-align: top;\n",
       "    }\n",
       "\n",
       "    .dataframe thead th {\n",
       "        text-align: right;\n",
       "    }\n",
       "</style>\n",
       "<table border=\"1\" class=\"dataframe\">\n",
       "  <thead>\n",
       "    <tr style=\"text-align: right;\">\n",
       "      <th></th>\n",
       "      <th>heatid</th>\n",
       "      <th>datetime_mod</th>\n",
       "      <th>end_t</th>\n",
       "      <th>gas1</th>\n",
       "    </tr>\n",
       "  </thead>\n",
       "  <tbody>\n",
       "    <tr>\n",
       "      <th>0</th>\n",
       "      <td>16523</td>\n",
       "      <td>2023-01-01 00:59:55</td>\n",
       "      <td>NaN</td>\n",
       "      <td>9.847</td>\n",
       "    </tr>\n",
       "    <tr>\n",
       "      <th>1</th>\n",
       "      <td>16523</td>\n",
       "      <td>2023-01-01 01:00:00</td>\n",
       "      <td>NaN</td>\n",
       "      <td>9.850</td>\n",
       "    </tr>\n",
       "    <tr>\n",
       "      <th>2</th>\n",
       "      <td>16523</td>\n",
       "      <td>2023-01-01 01:00:05</td>\n",
       "      <td>NaN</td>\n",
       "      <td>9.852</td>\n",
       "    </tr>\n",
       "    <tr>\n",
       "      <th>3</th>\n",
       "      <td>16523</td>\n",
       "      <td>2023-01-01 01:00:10</td>\n",
       "      <td>NaN</td>\n",
       "      <td>9.856</td>\n",
       "    </tr>\n",
       "    <tr>\n",
       "      <th>4</th>\n",
       "      <td>16523</td>\n",
       "      <td>2023-01-01 01:00:15</td>\n",
       "      <td>NaN</td>\n",
       "      <td>9.863</td>\n",
       "    </tr>\n",
       "  </tbody>\n",
       "</table>\n",
       "</div>"
      ],
      "text/plain": [
       "   heatid        datetime_mod  end_t   gas1\n",
       "0   16523 2023-01-01 00:59:55    NaN  9.847\n",
       "1   16523 2023-01-01 01:00:00    NaN  9.850\n",
       "2   16523 2023-01-01 01:00:05    NaN  9.852\n",
       "3   16523 2023-01-01 01:00:10    NaN  9.856\n",
       "4   16523 2023-01-01 01:00:15    NaN  9.863"
      ]
     },
     "execution_count": 132,
     "metadata": {},
     "output_type": "execute_result"
    }
   ],
   "source": [
    "df_st.head()"
   ]
  },
  {
   "cell_type": "code",
   "execution_count": 133,
   "metadata": {
    "scrolled": true
   },
   "outputs": [
    {
     "data": {
      "text/html": [
       "<div>\n",
       "<style scoped>\n",
       "    .dataframe tbody tr th:only-of-type {\n",
       "        vertical-align: middle;\n",
       "    }\n",
       "\n",
       "    .dataframe tbody tr th {\n",
       "        vertical-align: top;\n",
       "    }\n",
       "\n",
       "    .dataframe thead th {\n",
       "        text-align: right;\n",
       "    }\n",
       "</style>\n",
       "<table border=\"1\" class=\"dataframe\">\n",
       "  <thead>\n",
       "    <tr style=\"text-align: right;\">\n",
       "      <th></th>\n",
       "      <th>heatid</th>\n",
       "      <th>datetime_mod</th>\n",
       "      <th>end_t</th>\n",
       "      <th>gas1</th>\n",
       "    </tr>\n",
       "  </thead>\n",
       "  <tbody>\n",
       "    <tr>\n",
       "      <th>heatid</th>\n",
       "      <td>1.000000</td>\n",
       "      <td>0.999999</td>\n",
       "      <td>-0.022023</td>\n",
       "      <td>-0.001246</td>\n",
       "    </tr>\n",
       "    <tr>\n",
       "      <th>datetime_mod</th>\n",
       "      <td>0.999999</td>\n",
       "      <td>1.000000</td>\n",
       "      <td>-0.021848</td>\n",
       "      <td>-0.001210</td>\n",
       "    </tr>\n",
       "    <tr>\n",
       "      <th>end_t</th>\n",
       "      <td>-0.022023</td>\n",
       "      <td>-0.021848</td>\n",
       "      <td>1.000000</td>\n",
       "      <td>-0.009463</td>\n",
       "    </tr>\n",
       "    <tr>\n",
       "      <th>gas1</th>\n",
       "      <td>-0.001246</td>\n",
       "      <td>-0.001210</td>\n",
       "      <td>-0.009463</td>\n",
       "      <td>1.000000</td>\n",
       "    </tr>\n",
       "  </tbody>\n",
       "</table>\n",
       "</div>"
      ],
      "text/plain": [
       "                heatid  datetime_mod     end_t      gas1\n",
       "heatid        1.000000      0.999999 -0.022023 -0.001246\n",
       "datetime_mod  0.999999      1.000000 -0.021848 -0.001210\n",
       "end_t        -0.022023     -0.021848  1.000000 -0.009463\n",
       "gas1         -0.001246     -0.001210 -0.009463  1.000000"
      ]
     },
     "execution_count": 133,
     "metadata": {},
     "output_type": "execute_result"
    }
   ],
   "source": [
    "df_st.corr()"
   ]
  },
  {
   "cell_type": "markdown",
   "metadata": {},
   "source": [
    "# visualize some process"
   ]
  },
  {
   "cell_type": "code",
   "execution_count": 142,
   "metadata": {},
   "outputs": [
    {
     "data": {
      "image/png": "[encoded data removed]",
      "text/plain": [
       "<Figure size 1000x600 with 1 Axes>"
      ]
     },
     "metadata": {},
     "output_type": "display_data"
    }
   ],
   "source": [
    "df_sample = df_st.head(1300)\n",
    "plt.figure(figsize=(10, 6))  # Optional: Set the figure size\n",
    "plt.plot(df_sample['datetime_mod'], df_sample['gas1'], marker='o', linestyle='-', color='b')\n",
    "plt.plot(df_sample['datetime_mod'], df_sample['end_t'].apply(lambda x: x/100), marker='x', linestyle='--', color='r', label='end_t')\n",
    "\n",
    "plt.title('datetime_mod vs. gas1')\n",
    "plt.xlabel('datetime_mod')\n",
    "plt.ylabel('Variable')\n",
    "plt.grid(True)\n",
    "\n",
    "# Show the plot\n",
    "plt.xticks(rotation=45)  # Optional: Rotate x-axis labels for better readability\n",
    "plt.tight_layout()\n",
    "plt.show()"
   ]
  },
  {
   "cell_type": "code",
   "execution_count": 143,
   "metadata": {},
   "outputs": [],
   "source": [
    "df_sample= df_sample[df_sample['gas1'] >9]"
   ]
  },
  {
   "cell_type": "code",
   "execution_count": 144,
   "metadata": {},
   "outputs": [
    {
     "data": {
      "image/png": "[encoded data removed]",
      "text/plain": [
       "<Figure size 1000x600 with 1 Axes>"
      ]
     },
     "metadata": {},
     "output_type": "display_data"
    }
   ],
   "source": [
    "plt.figure(figsize=(10, 6))  # Optional: Set the figure size\n",
    "plt.plot(df_sample['datetime_mod'], df_sample['gas1'].apply(lambda x: x*1.53), marker='o', linestyle='-', color='b')\n",
    "plt.plot(df_sample['datetime_mod'], df_sample['end_t'].apply(lambda x: x/100), marker='x', linestyle='--', color='r', label='end_t')\n",
    "\n",
    "\n",
    "plt.title('datetime_mod vs. gas1')\n",
    "plt.xlabel('datetime_mod')\n",
    "plt.ylabel('Variable')\n",
    "plt.grid(True)\n",
    "\n",
    "# Show the plot\n",
    "plt.xticks(rotation=45)  # Optional: Rotate x-axis labels for better readability\n",
    "plt.tight_layout()\n",
    "plt.show()"
   ]
  },
  {
   "cell_type": "code",
   "execution_count": null,
   "metadata": {},
   "outputs": [],
   "source": []
  }
 ],
 "metadata": {
  "kernelspec": {
   "display_name": "Python 3 (ipykernel)",
   "language": "python",
   "name": "python3"
  },
  "language_info": {
   "codemirror_mode": {
    "name": "ipython",
    "version": 3
   },
   "file_extension": ".py",
   "mimetype": "text/x-python",
   "name": "python",
   "nbconvert_exporter": "python",
   "pygments_lexer": "ipython3",
   "version": "3.8.2"
  }
 },
 "nbformat": 4,
 "nbformat_minor": 4
}